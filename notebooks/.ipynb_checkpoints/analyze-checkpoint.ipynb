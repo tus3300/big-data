{
 "cells": [
  {
   "cell_type": "code",
   "execution_count": null,
   "metadata": {
    "vscode": {
     "languageId": "plaintext"
    }
   },
   "outputs": [],
   "source": [
    "# notebooks/analyze.ipynb\n",
    "from pyspark.sql import SparkSession\n",
    "import matplotlib.pyplot as plt\n",
    "import seaborn as sns\n",
    "\n",
    "# Khởi tạo SparkSession\n",
    "spark = SparkSession.builder \\\n",
    "    .appName(\"StockSentimentAnalysis\") \\\n",
    "    .config(\"spark.mongodb.input.uri\", \"mongodb://mongodb:27017/stock_db.processed_news\") \\\n",
    "    .config(\"spark.jars.packages\", \"org.mongodb.spark:mongo-spark-connector_2.12:3.0.1\") \\\n",
    "    .master(\"spark://spark-master:7077\") \\\n",
    "    .getOrCreate()\n",
    "\n",
    "# Tải dữ liệu đã xử lý\n",
    "df = spark.read.format(\"mongo\").load()\n",
    "\n",
    "# Đếm số lượng tin tức\n",
    "total_articles = df.count()\n",
    "print(f\"Tổng số bài viết: {total_articles}\")\n",
    "\n",
    "# Phân loại sentiment\n",
    "sentiment_counts = df.groupBy(\"sentiment\").count().toPandas()\n",
    "sentiment_counts['sentiment'] = sentiment_counts['sentiment'].map({1: 'Tích cực', 0: 'Tiêu cực'})\n",
    "\n",
    "# Trực quan hóa\n",
    "plt.figure(figsize=(8, 6))\n",
    "sns.barplot(x='sentiment', y='count', data=sentiment_counts)\n",
    "plt.title(\"Phân bố Sentiment của tin tức chứng khoán\")\n",
    "plt.xlabel(\"Sentiment\")\n",
    "plt.ylabel(\"Số lượng bài viết\")\n",
    "plt.show()\n",
    "\n",
    "# Dừng SparkSession\n",
    "spark.stop()"
   ]
  }
 ],
 "metadata": {
  "language_info": {
   "name": "python"
  }
 },
 "nbformat": 4,
 "nbformat_minor": 2
}

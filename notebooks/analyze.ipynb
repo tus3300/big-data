{
 "cells": [
  {
   "cell_type": "code",
   "execution_count": 3,
   "metadata": {
    "vscode": {
     "languageId": "plaintext"
    }
   },
   "outputs": [
    {
     "name": "stdout",
     "output_type": "stream",
     "text": [
      "SparkSession khởi tạo thành công!\n",
      "Đọc dữ liệu từ MongoDB thành công!\n",
      "Schema của DataFrame:\n",
      "root\n",
      "\n",
      "Dữ liệu mẫu (5 dòng):\n",
      "++\n",
      "||\n",
      "++\n",
      "++\n",
      "\n",
      "Tổng số bài viết: 0\n",
      "Không có dữ liệu để phân tích. Collection 'processed_news' có thể rỗng.\n"
     ]
    }
   ],
   "source": [
    "# notebooks/analyze.ipynb\n",
    "from pyspark.sql import SparkSession\n",
    "import matplotlib.pyplot as plt\n",
    "import seaborn as sns\n",
    "\n",
    "# Đảm bảo hiển thị đồ thị trong Jupyter\n",
    "%matplotlib inline\n",
    "\n",
    "# Khởi tạo SparkSession\n",
    "try:\n",
    "    spark = SparkSession.builder \\\n",
    "        .appName(\"StockSentimentAnalysis\") \\\n",
    "        .config(\"spark.mongodb.input.uri\", \"mongodb://mongodb:27017/stock_db.processed_news\") \\\n",
    "        .config(\"spark.jars.packages\", \"org.mongodb.spark:mongo-spark-connector_2.12:3.0.1\") \\\n",
    "        .master(\"spark://spark-master:7077\") \\\n",
    "        .getOrCreate()\n",
    "    print(\"SparkSession khởi tạo thành công!\")\n",
    "except Exception as e:\n",
    "    print(f\"Lỗi khi khởi tạo SparkSession: {e}\")\n",
    "    raise\n",
    "\n",
    "# Tải dữ liệu đã xử lý từ MongoDB\n",
    "try:\n",
    "    df = spark.read.format(\"mongo\") \\\n",
    "        .option(\"database\", \"stock_db\") \\\n",
    "        .option(\"collection\", \"processed_news\") \\\n",
    "        .load()\n",
    "    print(\"Đọc dữ liệu từ MongoDB thành công!\")\n",
    "except Exception as e:\n",
    "    print(f\"Lỗi khi đọc dữ liệu từ MongoDB: {e}\")\n",
    "    raise\n",
    "\n",
    "# In schema để kiểm tra các cột\n",
    "print(\"Schema của DataFrame:\")\n",
    "df.printSchema()\n",
    "\n",
    "# Hiển thị dữ liệu mẫu\n",
    "print(\"Dữ liệu mẫu (5 dòng):\")\n",
    "df.show(5)\n",
    "\n",
    "# Đếm số lượng tin tức\n",
    "total_articles = df.count()\n",
    "print(f\"Tổng số bài viết: {total_articles}\")\n",
    "\n",
    "# Kiểm tra và phân loại sentiment\n",
    "if total_articles > 0:\n",
    "    if 'sentiment' in df.columns:\n",
    "        # Phân loại sentiment\n",
    "        sentiment_counts = df.groupBy(\"sentiment\").count().toPandas()\n",
    "        sentiment_counts['sentiment'] = sentiment_counts['sentiment'].map({1: 'Tích cực', 0: 'Tiêu cực'})\n",
    "        print(\"Số lượng sentiment:\")\n",
    "        print(sentiment_counts)\n",
    "\n",
    "        # Trực quan hóa\n",
    "        plt.figure(figsize=(8, 6))\n",
    "        sns.barplot(x='sentiment', y='count', data=sentiment_counts)\n",
    "        plt.title(\"Phân bố Sentiment của tin tức chứng khoán\")\n",
    "        plt.xlabel(\"Sentiment\")\n",
    "        plt.ylabel(\"Số lượng bài viết\")\n",
    "        plt.show()\n",
    "    else:\n",
    "        print(\"Cột 'sentiment' không tồn tại trong dữ liệu. Kiểm tra lại collection 'processed_news' trong MongoDB.\")\n",
    "else:\n",
    "    print(\"Không có dữ liệu để phân tích. Collection 'processed_news' có thể rỗng.\")\n",
    "\n",
    "# Dừng SparkSession\n",
    "spark.stop()"
   ]
  },
  {
   "cell_type": "code",
   "execution_count": null,
   "metadata": {},
   "outputs": [],
   "source": []
  },
  {
   "cell_type": "code",
   "execution_count": null,
   "metadata": {},
   "outputs": [],
   "source": []
  }
 ],
 "metadata": {
  "kernelspec": {
   "display_name": "Python 3 (ipykernel)",
   "language": "python",
   "name": "python3"
  },
  "language_info": {
   "codemirror_mode": {
    "name": "ipython",
    "version": 3
   },
   "file_extension": ".py",
   "mimetype": "text/x-python",
   "name": "python",
   "nbconvert_exporter": "python",
   "pygments_lexer": "ipython3",
   "version": "3.11.6"
  }
 },
 "nbformat": 4,
 "nbformat_minor": 4
}
